{
 "cells": [
  {
   "cell_type": "code",
   "execution_count": 1,
   "metadata": {},
   "outputs": [],
   "source": [
    "import os"
   ]
  },
  {
   "cell_type": "code",
   "execution_count": 2,
   "metadata": {},
   "outputs": [
    {
     "data": {
      "text/plain": [
       "'c:\\\\Users\\\\Imaging\\\\KidneyDiseaseDeepLearningProject\\\\research'"
      ]
     },
     "execution_count": 2,
     "metadata": {},
     "output_type": "execute_result"
    }
   ],
   "source": [
    "%pwd"
   ]
  },
  {
   "cell_type": "code",
   "execution_count": 3,
   "metadata": {},
   "outputs": [],
   "source": [
    "os.chdir(\"../\")"
   ]
  },
  {
   "cell_type": "code",
   "execution_count": 4,
   "metadata": {},
   "outputs": [
    {
     "data": {
      "text/plain": [
       "'c:\\\\Users\\\\Imaging\\\\KidneyDiseaseDeepLearningProject'"
      ]
     },
     "execution_count": 4,
     "metadata": {},
     "output_type": "execute_result"
    }
   ],
   "source": [
    "%pwd"
   ]
  },
  {
   "cell_type": "code",
   "execution_count": 5,
   "metadata": {},
   "outputs": [],
   "source": [
    "from dataclasses import dataclass\n",
    "from pathlib import Path\n",
    "\n",
    "\n",
    "@dataclass(frozen=True)\n",
    "class TrainingConfig:\n",
    "    root_dir: Path\n",
    "    trained_model_path: Path\n",
    "    updated_base_model_path: Path\n",
    "    training_data: Path\n",
    "    params_epochs: int\n",
    "    params_batch_size: int\n",
    "    params_is_augmentation: bool\n",
    "    params_image_size: list"
   ]
  },
  {
   "cell_type": "code",
   "execution_count": 6,
   "metadata": {},
   "outputs": [],
   "source": [
    "from cnnClassifier.constants import *\n",
    "from cnnClassifier.utils.common import read_yaml, create_directories\n",
    "import tensorflow as tf"
   ]
  },
  {
   "cell_type": "code",
   "execution_count": 7,
   "metadata": {},
   "outputs": [],
   "source": [
    "class ConfigurationManager:\n",
    "    def __init__(\n",
    "        self,\n",
    "        config_filepath = CONFIG_FILE_PATH,\n",
    "        params_filepath = PARAMS_FILE_PATH):\n",
    "\n",
    "        self.config = read_yaml(config_filepath)\n",
    "        self.params = read_yaml(params_filepath)\n",
    "\n",
    "        create_directories([self.config.artifacts_root])\n",
    "\n",
    "\n",
    "    \n",
    "    def get_training_config(self) -> TrainingConfig:\n",
    "        training = self.config.training\n",
    "        prepare_base_model = self.config.prepare_base_model\n",
    "        params = self.params\n",
    "        training_data = os.path.join(self.config.data_ingestion.unzip_dir, \"kidney-ct-scan-image\")\n",
    "        create_directories([\n",
    "            Path(training.root_dir)\n",
    "        ])\n",
    "\n",
    "        training_config = TrainingConfig(\n",
    "            root_dir=Path(training.root_dir),\n",
    "            trained_model_path=Path(training.trained_model_path),\n",
    "            updated_base_model_path=Path(prepare_base_model.updated_base_model_path),\n",
    "            training_data=Path(training_data),\n",
    "            params_epochs=params.EPOCHS,\n",
    "            params_batch_size=params.BATCH_SIZE,\n",
    "            params_is_augmentation=params.AUGMENTATION,\n",
    "            params_image_size=params.IMAGE_SIZE\n",
    "        )\n",
    "\n",
    "        return training_config"
   ]
  },
  {
   "cell_type": "code",
   "execution_count": 8,
   "metadata": {},
   "outputs": [],
   "source": [
    "import os\n",
    "import urllib.request as request\n",
    "from zipfile import ZipFile\n",
    "import tensorflow as tf\n",
    "import time"
   ]
  },
  {
   "cell_type": "code",
   "execution_count": 9,
   "metadata": {},
   "outputs": [],
   "source": [
    "class Training:\n",
    "    def __init__(self, config: TrainingConfig):\n",
    "        self.config = config\n",
    "\n",
    "    \n",
    "    def get_base_model(self):\n",
    "        self.model = tf.keras.models.load_model(\n",
    "            self.config.updated_base_model_path\n",
    "        )\n",
    "\n",
    "    def train_valid_generator(self):\n",
    "\n",
    "        datagenerator_kwargs = dict(\n",
    "            rescale = 1./255,\n",
    "            validation_split=0.20\n",
    "        )\n",
    "\n",
    "        dataflow_kwargs = dict(\n",
    "            target_size=self.config.params_image_size[:-1],\n",
    "            batch_size=self.config.params_batch_size,\n",
    "            interpolation=\"bilinear\"\n",
    "        )\n",
    "\n",
    "        valid_datagenerator = tf.keras.preprocessing.image.ImageDataGenerator(\n",
    "            **datagenerator_kwargs\n",
    "        )\n",
    "\n",
    "        self.valid_generator = valid_datagenerator.flow_from_directory(\n",
    "            directory=self.config.training_data,\n",
    "            subset=\"validation\",\n",
    "            shuffle=False,\n",
    "            **dataflow_kwargs\n",
    "        )\n",
    "\n",
    "        if self.config.params_is_augmentation:\n",
    "            train_datagenerator = tf.keras.preprocessing.image.ImageDataGenerator(\n",
    "                rotation_range=40,\n",
    "                horizontal_flip=True,\n",
    "                width_shift_range=0.2,\n",
    "                height_shift_range=0.2,\n",
    "                shear_range=0.2,\n",
    "                zoom_range=0.2,\n",
    "                **datagenerator_kwargs\n",
    "            )\n",
    "        else:\n",
    "            train_datagenerator = valid_datagenerator\n",
    "\n",
    "        self.train_generator = train_datagenerator.flow_from_directory(\n",
    "            directory=self.config.training_data,\n",
    "            subset=\"training\",\n",
    "            shuffle=True,\n",
    "            **dataflow_kwargs\n",
    "        )\n",
    "\n",
    "    \n",
    "    @staticmethod\n",
    "    def save_model(path: Path, model: tf.keras.Model):\n",
    "        model.save(path)\n",
    "\n",
    "\n",
    "\n",
    "    \n",
    "    def train(self):\n",
    "        self.steps_per_epoch = self.train_generator.samples // self.train_generator.batch_size\n",
    "        self.validation_steps = self.valid_generator.samples // self.valid_generator.batch_size\n",
    "\n",
    "        self.model.fit(\n",
    "            self.train_generator,\n",
    "            epochs=self.config.params_epochs,\n",
    "            steps_per_epoch=self.steps_per_epoch,\n",
    "            validation_steps=self.validation_steps,\n",
    "            validation_data=self.valid_generator\n",
    "        )\n",
    "\n",
    "        self.save_model(\n",
    "            path=self.config.trained_model_path,\n",
    "            model=self.model\n",
    "        )"
   ]
  },
  {
   "cell_type": "code",
   "execution_count": 11,
   "metadata": {},
   "outputs": [
    {
     "name": "stdout",
     "output_type": "stream",
     "text": [
      "[2024-03-24 16:45:53,769: INFO: common: yaml file: config\\config.yaml loaded successfully]\n",
      "[2024-03-24 16:45:53,774: INFO: common: yaml file: params.yaml loaded successfully]\n",
      "[2024-03-24 16:45:53,776: INFO: common: created directory at: artifacts]\n",
      "[2024-03-24 16:45:53,779: INFO: common: created directory at: artifacts\\training]\n"
     ]
    },
    {
     "name": "stdout",
     "output_type": "stream",
     "text": [
      "Found 93 images belonging to 2 classes.\n",
      "Found 372 images belonging to 2 classes.\n",
      "Epoch 1/50\n",
      "23/23 [==============================] - 80s 3s/step - loss: 18.8216 - accuracy: 0.4607 - val_loss: 22.2598 - val_accuracy: 0.4750\n",
      "Epoch 2/50\n",
      "23/23 [==============================] - 78s 3s/step - loss: 4.4624 - accuracy: 0.7472 - val_loss: 5.3533 - val_accuracy: 0.4375\n",
      "Epoch 3/50\n",
      "23/23 [==============================] - 79s 3s/step - loss: 4.8586 - accuracy: 0.7640 - val_loss: 15.3446 - val_accuracy: 0.4750\n",
      "Epoch 4/50\n",
      "23/23 [==============================] - 81s 4s/step - loss: 3.8185 - accuracy: 0.7303 - val_loss: 7.1043 - val_accuracy: 0.4500\n",
      "Epoch 5/50\n",
      "23/23 [==============================] - 79s 3s/step - loss: 2.0245 - accuracy: 0.8230 - val_loss: 0.4056 - val_accuracy: 0.8875\n",
      "Epoch 6/50\n",
      "23/23 [==============================] - 78s 3s/step - loss: 2.6224 - accuracy: 0.7725 - val_loss: 0.5317 - val_accuracy: 0.8875\n",
      "Epoch 7/50\n",
      "23/23 [==============================] - 77s 3s/step - loss: 1.5863 - accuracy: 0.8511 - val_loss: 0.2830 - val_accuracy: 0.9625\n",
      "Epoch 8/50\n",
      "23/23 [==============================] - 77s 3s/step - loss: 4.7059 - accuracy: 0.7275 - val_loss: 2.6956 - val_accuracy: 0.5375\n",
      "Epoch 9/50\n",
      "23/23 [==============================] - 78s 3s/step - loss: 0.4864 - accuracy: 0.9213 - val_loss: 0.0525 - val_accuracy: 0.9625\n",
      "Epoch 10/50\n",
      "23/23 [==============================] - 77s 3s/step - loss: 0.7437 - accuracy: 0.9129 - val_loss: 0.0362 - val_accuracy: 0.9750\n",
      "Epoch 11/50\n",
      "23/23 [==============================] - 77s 3s/step - loss: 0.5280 - accuracy: 0.9354 - val_loss: 1.1734e-04 - val_accuracy: 1.0000\n",
      "Epoch 12/50\n",
      "23/23 [==============================] - 77s 3s/step - loss: 1.6466 - accuracy: 0.8539 - val_loss: 9.2427e-04 - val_accuracy: 1.0000\n",
      "Epoch 13/50\n",
      "23/23 [==============================] - 78s 3s/step - loss: 0.1892 - accuracy: 0.9494 - val_loss: 0.0171 - val_accuracy: 1.0000\n",
      "Epoch 14/50\n",
      "23/23 [==============================] - 78s 3s/step - loss: 0.2409 - accuracy: 0.9494 - val_loss: 1.9286e-04 - val_accuracy: 1.0000\n",
      "Epoch 15/50\n",
      "23/23 [==============================] - 77s 3s/step - loss: 0.1119 - accuracy: 0.9663 - val_loss: 3.4161e-05 - val_accuracy: 1.0000\n",
      "Epoch 16/50\n",
      "23/23 [==============================] - 78s 3s/step - loss: 0.2862 - accuracy: 0.9466 - val_loss: 5.2812e-05 - val_accuracy: 1.0000\n",
      "Epoch 17/50\n",
      "23/23 [==============================] - 78s 3s/step - loss: 1.3777 - accuracy: 0.8848 - val_loss: 0.2105 - val_accuracy: 0.9375\n",
      "Epoch 18/50\n",
      "23/23 [==============================] - 78s 3s/step - loss: 0.6164 - accuracy: 0.9326 - val_loss: 0.6095 - val_accuracy: 0.9000\n",
      "Epoch 19/50\n",
      "23/23 [==============================] - 78s 3s/step - loss: 1.6149 - accuracy: 0.8736 - val_loss: 0.0411 - val_accuracy: 0.9625\n",
      "Epoch 20/50\n",
      "23/23 [==============================] - 78s 3s/step - loss: 0.0688 - accuracy: 0.9831 - val_loss: 0.1717 - val_accuracy: 0.9625\n",
      "Epoch 21/50\n",
      "23/23 [==============================] - 77s 3s/step - loss: 0.2712 - accuracy: 0.9579 - val_loss: 3.4836e-04 - val_accuracy: 1.0000\n",
      "Epoch 22/50\n",
      "23/23 [==============================] - 78s 3s/step - loss: 1.1064 - accuracy: 0.9017 - val_loss: 1.5818e-04 - val_accuracy: 1.0000\n",
      "Epoch 23/50\n",
      "23/23 [==============================] - 77s 3s/step - loss: 0.0558 - accuracy: 0.9747 - val_loss: 9.6069e-05 - val_accuracy: 1.0000\n",
      "Epoch 24/50\n",
      "23/23 [==============================] - 77s 3s/step - loss: 0.2071 - accuracy: 0.9747 - val_loss: 3.8458e-05 - val_accuracy: 1.0000\n",
      "Epoch 25/50\n",
      "23/23 [==============================] - 78s 3s/step - loss: 0.1147 - accuracy: 0.9803 - val_loss: 1.5047e-05 - val_accuracy: 1.0000\n",
      "Epoch 26/50\n",
      "23/23 [==============================] - 78s 3s/step - loss: 0.0761 - accuracy: 0.9860 - val_loss: 4.7919e-05 - val_accuracy: 1.0000\n",
      "Epoch 27/50\n",
      "23/23 [==============================] - 78s 3s/step - loss: 0.0250 - accuracy: 0.9944 - val_loss: 7.9562e-05 - val_accuracy: 1.0000\n",
      "Epoch 28/50\n",
      "23/23 [==============================] - 78s 3s/step - loss: 0.1348 - accuracy: 0.9607 - val_loss: 3.6417e-06 - val_accuracy: 1.0000\n",
      "Epoch 29/50\n",
      "23/23 [==============================] - 77s 3s/step - loss: 0.0684 - accuracy: 0.9860 - val_loss: 9.0991e-06 - val_accuracy: 1.0000\n",
      "Epoch 30/50\n",
      "23/23 [==============================] - 77s 3s/step - loss: 0.0394 - accuracy: 0.9888 - val_loss: 4.1513e-06 - val_accuracy: 1.0000\n",
      "Epoch 31/50\n",
      "23/23 [==============================] - 77s 3s/step - loss: 0.0646 - accuracy: 0.9944 - val_loss: 7.8106e-06 - val_accuracy: 1.0000\n",
      "Epoch 32/50\n",
      "23/23 [==============================] - 77s 3s/step - loss: 0.1499 - accuracy: 0.9803 - val_loss: 3.5506e-04 - val_accuracy: 1.0000\n",
      "Epoch 33/50\n",
      "23/23 [==============================] - 78s 3s/step - loss: 0.0266 - accuracy: 0.9972 - val_loss: 7.6449e-06 - val_accuracy: 1.0000\n",
      "Epoch 34/50\n",
      "23/23 [==============================] - 77s 3s/step - loss: 0.0606 - accuracy: 0.9803 - val_loss: 1.5307e-05 - val_accuracy: 1.0000\n",
      "Epoch 35/50\n",
      "23/23 [==============================] - 78s 3s/step - loss: 0.0583 - accuracy: 0.9860 - val_loss: 5.0419e-04 - val_accuracy: 1.0000\n",
      "Epoch 36/50\n",
      "23/23 [==============================] - 77s 3s/step - loss: 0.0353 - accuracy: 0.9916 - val_loss: 1.0073e-06 - val_accuracy: 1.0000\n",
      "Epoch 37/50\n",
      "23/23 [==============================] - 77s 3s/step - loss: 0.2852 - accuracy: 0.9607 - val_loss: 1.5888e-05 - val_accuracy: 1.0000\n",
      "Epoch 38/50\n",
      "23/23 [==============================] - 78s 3s/step - loss: 0.0831 - accuracy: 0.9747 - val_loss: 2.3706e-05 - val_accuracy: 1.0000\n",
      "Epoch 39/50\n",
      "23/23 [==============================] - 79s 3s/step - loss: 0.0309 - accuracy: 0.9888 - val_loss: 0.0015 - val_accuracy: 1.0000\n",
      "Epoch 40/50\n",
      "23/23 [==============================] - 78s 3s/step - loss: 0.0701 - accuracy: 0.9831 - val_loss: 0.0045 - val_accuracy: 1.0000\n",
      "Epoch 41/50\n",
      "23/23 [==============================] - 77s 3s/step - loss: 0.0293 - accuracy: 0.9831 - val_loss: 0.0104 - val_accuracy: 1.0000\n",
      "Epoch 42/50\n",
      "23/23 [==============================] - 77s 3s/step - loss: 0.0269 - accuracy: 0.9888 - val_loss: 9.2771e-05 - val_accuracy: 1.0000\n",
      "Epoch 43/50\n",
      "23/23 [==============================] - 78s 3s/step - loss: 0.0474 - accuracy: 0.9888 - val_loss: 1.2249e-05 - val_accuracy: 1.0000\n",
      "Epoch 44/50\n",
      "23/23 [==============================] - 78s 3s/step - loss: 0.0044 - accuracy: 1.0000 - val_loss: 1.3175e-04 - val_accuracy: 1.0000\n",
      "Epoch 45/50\n",
      "23/23 [==============================] - 78s 3s/step - loss: 0.0146 - accuracy: 0.9916 - val_loss: 4.5636e-05 - val_accuracy: 1.0000\n",
      "Epoch 46/50\n",
      "23/23 [==============================] - 77s 3s/step - loss: 0.0156 - accuracy: 0.9972 - val_loss: 1.9028e-04 - val_accuracy: 1.0000\n",
      "Epoch 47/50\n",
      "23/23 [==============================] - 78s 3s/step - loss: 0.0541 - accuracy: 0.9860 - val_loss: 0.0026 - val_accuracy: 1.0000\n",
      "Epoch 48/50\n",
      "23/23 [==============================] - 77s 3s/step - loss: 0.0418 - accuracy: 0.9944 - val_loss: 1.3376e-05 - val_accuracy: 1.0000\n",
      "Epoch 49/50\n",
      "23/23 [==============================] - 78s 3s/step - loss: 0.0250 - accuracy: 0.9916 - val_loss: 2.1087e-04 - val_accuracy: 1.0000\n",
      "Epoch 50/50\n",
      "23/23 [==============================] - 78s 3s/step - loss: 0.0824 - accuracy: 0.9831 - val_loss: 2.2207e-04 - val_accuracy: 1.0000\n"
     ]
    }
   ],
   "source": [
    "try:\n",
    "    config = ConfigurationManager()\n",
    "    training_config = config.get_training_config()\n",
    "    training = Training(config=training_config)\n",
    "    training.get_base_model()\n",
    "    training.train_valid_generator()\n",
    "    training.train()\n",
    "    \n",
    "except Exception as e:\n",
    "    raise e"
   ]
  }
 ],
 "metadata": {
  "kernelspec": {
   "display_name": "Python 3",
   "language": "python",
   "name": "python3"
  },
  "language_info": {
   "codemirror_mode": {
    "name": "ipython",
    "version": 3
   },
   "file_extension": ".py",
   "mimetype": "text/x-python",
   "name": "python",
   "nbconvert_exporter": "python",
   "pygments_lexer": "ipython3",
   "version": "3.8.19"
  }
 },
 "nbformat": 4,
 "nbformat_minor": 2
}
