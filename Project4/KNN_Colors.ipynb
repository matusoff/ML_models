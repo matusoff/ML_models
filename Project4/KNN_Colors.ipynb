{
 "cells": [
  {
   "cell_type": "markdown",
   "id": "19f49440",
   "metadata": {},
   "source": [
    "Data clearning and acquisition for colors\n",
    "1. Download the github repo https://github.com/rkc007/KNN_color_recognition/tree/717490e62ab581aa6962588f4711d485cbb04dc1\n",
    "2. Unzip\n",
    "3. Copy `training_dataset` into the ML-Python folder where the notebooks are\n",
    "4. Rename `training_daaset` to `colors`"
   ]
  },
  {
   "cell_type": "markdown",
   "id": "3f025a7c",
   "metadata": {},
   "source": [
    "1. List all the subfolders of `colors`\n",
    "2. Go into each, and open each image file inside\n",
    "    * extract the RGB values of the topleft pixel of each image\n",
    "3. Build a mapping from color names to lists of RGB triples"
   ]
  },
  {
   "cell_type": "code",
   "execution_count": 28,
   "id": "fe2cfc28",
   "metadata": {},
   "outputs": [],
   "source": [
    "import os #part of the Python standard library, comes with Python\n",
    "from PIL import Image # separaes from the standard library, but camae with Anaconda"
   ]
  },
  {
   "cell_type": "code",
   "execution_count": 29,
   "id": "437f90cb",
   "metadata": {},
   "outputs": [],
   "source": [
    "mapping = {} # initially the mapping is empty\n",
    "\n",
    "for color_subdir in os.listdir('colors'):\n",
    "    # need to ignore hidden directory .DS_Store\n",
    "    if color_subdir.startswith('.'): continue\n",
    "        \n",
    "    mapping[color_subdir] = []\n",
    "    \n",
    "    for image_name in os.listdir('colors/' + color_subdir):\n",
    "        # construct full path to the image file\n",
    "        image_path = 'colors/' + color_subdir + '/' + image_name\n",
    "        \n",
    "        # load the image\n",
    "        image = Image.open(image_path)\n",
    "        \n",
    "        width, height = image.size\n",
    "        \n",
    "                \n",
    "        # extract the topleft pixel\n",
    "        pixel = image.getpixel( (width//2, height//2) ) #<--- topleft pixel\n",
    "        \n",
    "        # data cleaning: ignore the weird 0 pixels\n",
    "        if type(pixel) == int: continue\n",
    "        \n",
    "        # drop the alpha component of any RGBA values to convert to pure RGB    \n",
    "        pixel = pixel[:3]\n",
    "\n",
    "        mapping[color_subdir].append(pixel)"
   ]
  },
  {
   "cell_type": "code",
   "execution_count": 30,
   "id": "63d205a5",
   "metadata": {
    "scrolled": false
   },
   "outputs": [
    {
     "data": {
      "text/plain": [
       "{'black': [(47, 47, 47),\n",
       "  (7, 13, 11),\n",
       "  (0, 0, 0),\n",
       "  (6, 6, 6),\n",
       "  (24, 29, 32),\n",
       "  (49, 54, 57),\n",
       "  (29, 29, 29),\n",
       "  (37, 37, 37),\n",
       "  (42, 41, 47),\n",
       "  (35, 30, 34)],\n",
       " 'blue': [(0, 0, 254),\n",
       "  (3, 91, 188),\n",
       "  (3, 4, 148),\n",
       "  (0, 0, 255),\n",
       "  (0, 48, 143),\n",
       "  (1, 119, 193)],\n",
       " 'green': [(37, 202, 38),\n",
       "  (0, 255, 0),\n",
       "  (35, 67, 17),\n",
       "  (64, 189, 85),\n",
       "  (159, 217, 140),\n",
       "  (0, 166, 82),\n",
       "  (0, 128, 1),\n",
       "  (33, 83, 54),\n",
       "  (125, 194, 75),\n",
       "  (123, 252, 1),\n",
       "  (125, 232, 88)],\n",
       " 'orange': [(255, 128, 0),\n",
       "  (255, 122, 1),\n",
       "  (255, 102, 0),\n",
       "  (254, 101, 33),\n",
       "  (255, 153, 0),\n",
       "  (252, 79, 19),\n",
       "  (255, 127, 0)],\n",
       " 'red': [(61, 13, 3),\n",
       "  (254, 0, 2),\n",
       "  (254, 0, 0),\n",
       "  (210, 7, 36),\n",
       "  (209, 23, 23),\n",
       "  (207, 22, 1),\n",
       "  (221, 0, 12),\n",
       "  (176, 33, 27),\n",
       "  (128, 24, 24)],\n",
       " 'violet': [(130, 0, 220),\n",
       "  (127, 0, 255),\n",
       "  (145, 0, 255),\n",
       "  (145, 0, 255),\n",
       "  (148, 0, 210),\n",
       "  (127, 0, 255),\n",
       "  (145, 0, 255),\n",
       "  (125, 0, 240),\n",
       "  (148, 0, 211)],\n",
       " 'white': [(253, 253, 255),\n",
       "  (248, 249, 254),\n",
       "  (255, 255, 244),\n",
       "  (253, 245, 230),\n",
       "  (255, 237, 231),\n",
       "  (243, 239, 227),\n",
       "  (229, 224, 221),\n",
       "  (242, 233, 228),\n",
       "  (239, 230, 223),\n",
       "  (242, 233, 228)],\n",
       " 'yellow': [(255, 242, 39),\n",
       "  (255, 215, 12),\n",
       "  (254, 242, 0),\n",
       "  (247, 224, 23),\n",
       "  (255, 183, 9),\n",
       "  (255, 255, 0),\n",
       "  (255, 166, 0),\n",
       "  (249, 217, 94),\n",
       "  (246, 191, 39)]}"
      ]
     },
     "execution_count": 30,
     "metadata": {},
     "output_type": "execute_result"
    }
   ],
   "source": [
    "# Problem: there are weird boundary problem in the color images\n",
    "# Solution: take the midle pixel\n",
    "# need to look at the Pillow docs for the Image\n",
    "#class to get the width and height of the Image \n",
    "#Diving both by teo will give the coors of the center pixel\n",
    "mapping"
   ]
  },
  {
   "cell_type": "code",
   "execution_count": 33,
   "id": "43cd2ffe",
   "metadata": {},
   "outputs": [],
   "source": [
    "import csv\n",
    "import sys"
   ]
  },
  {
   "cell_type": "code",
   "execution_count": 36,
   "id": "d637ac3c",
   "metadata": {},
   "outputs": [],
   "source": [
    "file = open('colors.csv', 'w')\n",
    "writer = csv.writer(file)\n",
    "for color_name, rgb_values in mapping.items():\n",
    "    for r,g,b, in rgb_values:\n",
    "        writer.writerow([color_name, r,g,b])\n",
    "file.close()"
   ]
  },
  {
   "cell_type": "code",
   "execution_count": 35,
   "id": "f89da03d",
   "metadata": {},
   "outputs": [
    {
     "name": "stdout",
     "output_type": "stream",
     "text": [
      "black,47,47,47\r\n",
      "black,7,13,11\r\n",
      "black,0,0,0\r\n",
      "black,6,6,6\r\n",
      "black,24,29,32\r\n",
      "black,49,54,57\r\n",
      "black,29,29,29\r\n",
      "black,37,37,37\r\n",
      "black,42,41,47\r\n",
      "black,35,30,34\r\n",
      "blue,0,0,254\r\n",
      "blue,3,91,188\r\n",
      "blue,3,4,148\r\n",
      "blue,0,0,255\r\n",
      "blue,0,48,143\r\n",
      "blue,1,119,193\r\n",
      "green,37,202,38\r\n",
      "green,0,255,0\r\n",
      "green,35,67,17\r\n",
      "green,64,189,85\r\n",
      "green,159,217,140\r\n",
      "green,0,166,82\r\n",
      "green,0,128,1\r\n",
      "green,33,83,54\r\n",
      "green,125,194,75\r\n",
      "green,123,252,1\r\n",
      "green,125,232,88\r\n",
      "orange,255,128,0\r\n",
      "orange,255,122,1\r\n",
      "orange,255,102,0\r\n",
      "orange,254,101,33\r\n",
      "orange,255,153,0\r\n",
      "orange,252,79,19\r\n",
      "orange,255,127,0\r\n",
      "red,61,13,3\r\n",
      "red,254,0,2\r\n",
      "red,254,0,0\r\n",
      "red,210,7,36\r\n",
      "red,209,23,23\r\n",
      "red,207,22,1\r\n",
      "red,221,0,12\r\n",
      "red,176,33,27\r\n",
      "red,128,24,24\r\n",
      "violet,130,0,220\r\n",
      "violet,127,0,255\r\n",
      "violet,145,0,255\r\n",
      "violet,145,0,255\r\n",
      "violet,148,0,210\r\n",
      "violet,127,0,255\r\n",
      "violet,145,0,255\r\n",
      "violet,125,0,240\r\n",
      "violet,148,0,211\r\n",
      "white,253,253,255\r\n",
      "white,248,249,254\r\n",
      "white,255,255,244\r\n",
      "white,253,245,230\r\n",
      "white,255,237,231\r\n",
      "white,243,239,227\r\n",
      "white,229,224,221\r\n",
      "white,242,233,228\r\n",
      "white,239,230,223\r\n",
      "white,242,233,228\r\n",
      "yellow,255,242,39\r\n",
      "yellow,255,215,12\r\n",
      "yellow,254,242,0\r\n",
      "yellow,247,224,23\r\n",
      "yellow,255,183,9\r\n",
      "yellow,255,255,0\r\n",
      "yellow,255,166,0\r\n",
      "yellow,249,217,94\r\n",
      "yellow,246,191,39\r\n"
     ]
    }
   ],
   "source": [
    "#Alternative way of opening files with automatic closure\n",
    "with open('colors.csv', 'w') as file:\n",
    "    writer = csv.writer(file)\n",
    "    for color_name, rgb_values in mapping.items():\n",
    "        for r,g,b, in rgb_values:\n",
    "            writer.writerow([color_name, r,g,b])\n",
    "\n",
    "        "
   ]
  },
  {
   "cell_type": "markdown",
   "id": "6de708aa",
   "metadata": {},
   "source": [
    "k-NN colors"
   ]
  },
  {
   "cell_type": "code",
   "execution_count": 38,
   "id": "ecd91ea4",
   "metadata": {},
   "outputs": [],
   "source": [
    "from sklearn.neighbors import KNeighborsClassifier\n",
    "from sklearn.model_selection import train_test_split\n",
    "from sklearn.metrics import accuracy_score\n",
    "import csv\n",
    "import pandas as pd"
   ]
  },
  {
   "cell_type": "code",
   "execution_count": 46,
   "id": "e53c3b81",
   "metadata": {},
   "outputs": [],
   "source": [
    "df = pd.read_csv('colors.csv', names=['color', 'r', 'g', 'b'])"
   ]
  },
  {
   "cell_type": "code",
   "execution_count": 47,
   "id": "041ed9ee",
   "metadata": {},
   "outputs": [
    {
     "data": {
      "text/html": [
       "<div>\n",
       "<style scoped>\n",
       "    .dataframe tbody tr th:only-of-type {\n",
       "        vertical-align: middle;\n",
       "    }\n",
       "\n",
       "    .dataframe tbody tr th {\n",
       "        vertical-align: top;\n",
       "    }\n",
       "\n",
       "    .dataframe thead th {\n",
       "        text-align: right;\n",
       "    }\n",
       "</style>\n",
       "<table border=\"1\" class=\"dataframe\">\n",
       "  <thead>\n",
       "    <tr style=\"text-align: right;\">\n",
       "      <th></th>\n",
       "      <th>color</th>\n",
       "      <th>r</th>\n",
       "      <th>g</th>\n",
       "      <th>b</th>\n",
       "    </tr>\n",
       "  </thead>\n",
       "  <tbody>\n",
       "    <tr>\n",
       "      <th>0</th>\n",
       "      <td>black</td>\n",
       "      <td>47</td>\n",
       "      <td>47</td>\n",
       "      <td>47</td>\n",
       "    </tr>\n",
       "    <tr>\n",
       "      <th>1</th>\n",
       "      <td>black</td>\n",
       "      <td>7</td>\n",
       "      <td>13</td>\n",
       "      <td>11</td>\n",
       "    </tr>\n",
       "    <tr>\n",
       "      <th>2</th>\n",
       "      <td>black</td>\n",
       "      <td>0</td>\n",
       "      <td>0</td>\n",
       "      <td>0</td>\n",
       "    </tr>\n",
       "    <tr>\n",
       "      <th>3</th>\n",
       "      <td>black</td>\n",
       "      <td>6</td>\n",
       "      <td>6</td>\n",
       "      <td>6</td>\n",
       "    </tr>\n",
       "    <tr>\n",
       "      <th>4</th>\n",
       "      <td>black</td>\n",
       "      <td>24</td>\n",
       "      <td>29</td>\n",
       "      <td>32</td>\n",
       "    </tr>\n",
       "    <tr>\n",
       "      <th>...</th>\n",
       "      <td>...</td>\n",
       "      <td>...</td>\n",
       "      <td>...</td>\n",
       "      <td>...</td>\n",
       "    </tr>\n",
       "    <tr>\n",
       "      <th>66</th>\n",
       "      <td>yellow</td>\n",
       "      <td>255</td>\n",
       "      <td>183</td>\n",
       "      <td>9</td>\n",
       "    </tr>\n",
       "    <tr>\n",
       "      <th>67</th>\n",
       "      <td>yellow</td>\n",
       "      <td>255</td>\n",
       "      <td>255</td>\n",
       "      <td>0</td>\n",
       "    </tr>\n",
       "    <tr>\n",
       "      <th>68</th>\n",
       "      <td>yellow</td>\n",
       "      <td>255</td>\n",
       "      <td>166</td>\n",
       "      <td>0</td>\n",
       "    </tr>\n",
       "    <tr>\n",
       "      <th>69</th>\n",
       "      <td>yellow</td>\n",
       "      <td>249</td>\n",
       "      <td>217</td>\n",
       "      <td>94</td>\n",
       "    </tr>\n",
       "    <tr>\n",
       "      <th>70</th>\n",
       "      <td>yellow</td>\n",
       "      <td>246</td>\n",
       "      <td>191</td>\n",
       "      <td>39</td>\n",
       "    </tr>\n",
       "  </tbody>\n",
       "</table>\n",
       "<p>71 rows × 4 columns</p>\n",
       "</div>"
      ],
      "text/plain": [
       "     color    r    g   b\n",
       "0    black   47   47  47\n",
       "1    black    7   13  11\n",
       "2    black    0    0   0\n",
       "3    black    6    6   6\n",
       "4    black   24   29  32\n",
       "..     ...  ...  ...  ..\n",
       "66  yellow  255  183   9\n",
       "67  yellow  255  255   0\n",
       "68  yellow  255  166   0\n",
       "69  yellow  249  217  94\n",
       "70  yellow  246  191  39\n",
       "\n",
       "[71 rows x 4 columns]"
      ]
     },
     "execution_count": 47,
     "metadata": {},
     "output_type": "execute_result"
    }
   ],
   "source": [
    "df"
   ]
  },
  {
   "cell_type": "code",
   "execution_count": 49,
   "id": "d39a7645",
   "metadata": {},
   "outputs": [],
   "source": [
    "#convert to numpy array\n",
    "array = df.to_numpy()"
   ]
  },
  {
   "cell_type": "code",
   "execution_count": 50,
   "id": "0efee110",
   "metadata": {
    "scrolled": true
   },
   "outputs": [
    {
     "data": {
      "text/plain": [
       "array(['black', 'black', 'black', 'black', 'black', 'black', 'black',\n",
       "       'black', 'black', 'black', 'blue', 'blue', 'blue', 'blue', 'blue',\n",
       "       'blue', 'green', 'green', 'green', 'green', 'green', 'green',\n",
       "       'green', 'green', 'green', 'green', 'green', 'orange', 'orange',\n",
       "       'orange', 'orange', 'orange', 'orange', 'orange', 'red', 'red',\n",
       "       'red', 'red', 'red', 'red', 'red', 'red', 'red', 'violet',\n",
       "       'violet', 'violet', 'violet', 'violet', 'violet', 'violet',\n",
       "       'violet', 'violet', 'white', 'white', 'white', 'white', 'white',\n",
       "       'white', 'white', 'white', 'white', 'white', 'yellow', 'yellow',\n",
       "       'yellow', 'yellow', 'yellow', 'yellow', 'yellow', 'yellow',\n",
       "       'yellow'], dtype=object)"
      ]
     },
     "execution_count": 50,
     "metadata": {},
     "output_type": "execute_result"
    }
   ],
   "source": [
    "#select a column in numpy array\n",
    "array[:, 0]\n",
    "\n",
    "#v2 df.color"
   ]
  },
  {
   "cell_type": "code",
   "execution_count": 51,
   "id": "55f7730c",
   "metadata": {},
   "outputs": [],
   "source": [
    "#get numbers\n",
    "y = array[:, 0]\n",
    "X = array[:, 1:]"
   ]
  },
  {
   "cell_type": "code",
   "execution_count": 54,
   "id": "c16a6a57",
   "metadata": {},
   "outputs": [],
   "source": [
    "# STep 0: train-test-split; set aside data for an 'exam' for our model at the end\n",
    "X_train, X_test, y_train, y_test = train_test_split(X, y, test_size=0.1, random_state=0)  #random_state=0 <-- to get the exact same split every time someone do the split"
   ]
  },
  {
   "cell_type": "code",
   "execution_count": 55,
   "id": "f266a633",
   "metadata": {},
   "outputs": [],
   "source": [
    "# Step 1: Initiate the Classifier\n",
    "classifier = KNeighborsClassifier(n_neighbors=5)"
   ]
  },
  {
   "cell_type": "code",
   "execution_count": 57,
   "id": "c23e27e5",
   "metadata": {},
   "outputs": [
    {
     "data": {
      "text/plain": [
       "KNeighborsClassifier()"
      ]
     },
     "execution_count": 57,
     "metadata": {},
     "output_type": "execute_result"
    }
   ],
   "source": [
    "# Step 2: Train the classifier\n",
    "classifier.fit(X_train, y_train)\n"
   ]
  },
  {
   "cell_type": "code",
   "execution_count": 58,
   "id": "5ba7a788",
   "metadata": {},
   "outputs": [],
   "source": [
    "y_predicted = classifier.predict(X_test)"
   ]
  },
  {
   "cell_type": "code",
   "execution_count": 60,
   "id": "648c1788",
   "metadata": {},
   "outputs": [
    {
     "data": {
      "text/plain": [
       "1.0"
      ]
     },
     "execution_count": 60,
     "metadata": {},
     "output_type": "execute_result"
    }
   ],
   "source": [
    "accuracy_score(y_test, y_predicted)"
   ]
  },
  {
   "cell_type": "code",
   "execution_count": null,
   "id": "c2247157",
   "metadata": {},
   "outputs": [],
   "source": [
    "# Let's choose a random color from online RGB color Codes Chart"
   ]
  },
  {
   "cell_type": "code",
   "execution_count": 62,
   "id": "077a964c",
   "metadata": {},
   "outputs": [
    {
     "data": {
      "text/plain": [
       "array(['violet'], dtype=object)"
      ]
     },
     "execution_count": 62,
     "metadata": {},
     "output_type": "execute_result"
    }
   ],
   "source": [
    "classifier.predict([(255, 74, 235)])"
   ]
  },
  {
   "cell_type": "code",
   "execution_count": 63,
   "id": "84e212db",
   "metadata": {},
   "outputs": [
    {
     "data": {
      "text/plain": [
       "array(['green'], dtype=object)"
      ]
     },
     "execution_count": 63,
     "metadata": {},
     "output_type": "execute_result"
    }
   ],
   "source": [
    "classifier.predict([(50, 168, 82)])"
   ]
  },
  {
   "cell_type": "code",
   "execution_count": 64,
   "id": "c124eac2",
   "metadata": {},
   "outputs": [
    {
     "data": {
      "text/plain": [
       "array(['blue'], dtype=object)"
      ]
     },
     "execution_count": 64,
     "metadata": {},
     "output_type": "execute_result"
    }
   ],
   "source": [
    "classifier.predict([(50, 98, 168)])"
   ]
  },
  {
   "cell_type": "code",
   "execution_count": 68,
   "id": "bf7ddb8a",
   "metadata": {},
   "outputs": [
    {
     "data": {
      "text/plain": [
       "array(['yellow'], dtype=object)"
      ]
     },
     "execution_count": 68,
     "metadata": {},
     "output_type": "execute_result"
    }
   ],
   "source": [
    "classifier.predict([(168, 158, 50)])"
   ]
  }
 ],
 "metadata": {
  "kernelspec": {
   "display_name": "Python 3 (ipykernel)",
   "language": "python",
   "name": "python3"
  },
  "language_info": {
   "codemirror_mode": {
    "name": "ipython",
    "version": 3
   },
   "file_extension": ".py",
   "mimetype": "text/x-python",
   "name": "python",
   "nbconvert_exporter": "python",
   "pygments_lexer": "ipython3",
   "version": "3.9.12"
  }
 },
 "nbformat": 4,
 "nbformat_minor": 5
}
